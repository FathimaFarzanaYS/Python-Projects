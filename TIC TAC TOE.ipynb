{
 "cells": [
  {
   "cell_type": "markdown",
   "id": "f1dca881",
   "metadata": {},
   "source": [
    "# TIC TAC TOE"
   ]
  },
  {
   "cell_type": "code",
   "execution_count": 1,
   "id": "4bfce8a2",
   "metadata": {},
   "outputs": [],
   "source": [
    "from IPython.display import clear_output\n",
    "def display_board(board):\n",
    "    clear_output()\n",
    "    \n",
    "    print( board[7] + '  | ' + board[8] + ' | ' + board[9])\n",
    "    print('-----------')\n",
    "    print( board[4] + ' | ' + board[5] + ' | ' + board[6])\n",
    "    print('-----------')\n",
    "    print( board[1] + ' | ' + board[2] + ' | ' + board[3])\n",
    "   "
   ]
  },
  {
   "cell_type": "code",
   "execution_count": 2,
   "id": "0dca21ca",
   "metadata": {},
   "outputs": [
    {
     "name": "stdout",
     "output_type": "stream",
     "text": [
      "7  | 8 | 9\n",
      "-----------\n",
      "4 | 5 | 6\n",
      "-----------\n",
      "1 | 2 | 3\n"
     ]
    }
   ],
   "source": [
    "test_board = ['#','1','2','3','4','5','6','7','8','9']\n",
    "display_board(test_board)"
   ]
  },
  {
   "cell_type": "code",
   "execution_count": 3,
   "id": "16b4909c",
   "metadata": {},
   "outputs": [],
   "source": [
    "def player_input():\n",
    "    \n",
    "    marker=''\n",
    "    \n",
    "    while not (marker == 'X' or marker == 'O'):\n",
    "        marker = input('Player 1: Choose X or O ').upper()\n",
    "\n",
    "    if marker == 'X':\n",
    "        return ('X','O')\n",
    "    else:\n",
    "        return ('O','X')"
   ]
  },
  {
   "cell_type": "code",
   "execution_count": 4,
   "id": "d51b69fb",
   "metadata": {},
   "outputs": [
    {
     "name": "stdout",
     "output_type": "stream",
     "text": [
      "Player 1: Choose X or O X\n"
     ]
    },
    {
     "data": {
      "text/plain": [
       "('X', 'O')"
      ]
     },
     "execution_count": 4,
     "metadata": {},
     "output_type": "execute_result"
    }
   ],
   "source": [
    "player_input()"
   ]
  },
  {
   "cell_type": "code",
   "execution_count": 5,
   "id": "6dc38402",
   "metadata": {},
   "outputs": [],
   "source": [
    "def place_marker(board, marker, position):\n",
    "    \n",
    "    board[position] = marker"
   ]
  },
  {
   "cell_type": "code",
   "execution_count": 6,
   "id": "e39d87ce",
   "metadata": {},
   "outputs": [
    {
     "name": "stdout",
     "output_type": "stream",
     "text": [
      "7  | $ | 9\n",
      "-----------\n",
      "4 | 5 | 6\n",
      "-----------\n",
      "1 | 2 | 3\n"
     ]
    }
   ],
   "source": [
    "place_marker(test_board,'$',8)\n",
    "display_board(test_board)"
   ]
  },
  {
   "cell_type": "code",
   "execution_count": 7,
   "id": "63f1d7ac",
   "metadata": {},
   "outputs": [],
   "source": [
    "def win_check(board,mark):\n",
    "    \n",
    "    return ((board[7] == mark and board[8] == mark and board[9] == mark) or\n",
    "    (board[4] == mark and board[5] == mark and board[6] == mark) or\n",
    "    (board[1] == mark and board[2] == mark and board[3] == mark) or\n",
    "    (board[7] == mark and board[4] == mark and board[1] == mark) or\n",
    "    (board[8] == mark and board[5] == mark and board[2] == mark) or\n",
    "    (board[9] == mark and board[6] == mark and board[3] == mark) or\n",
    "    (board[7] == mark and board[5] == mark and board[3] == mark) or\n",
    "    (board[9] == mark and board[5] == mark and board[1] == mark))"
   ]
  },
  {
   "cell_type": "code",
   "execution_count": 8,
   "id": "b05c1505",
   "metadata": {},
   "outputs": [
    {
     "data": {
      "text/plain": [
       "False"
      ]
     },
     "execution_count": 8,
     "metadata": {},
     "output_type": "execute_result"
    }
   ],
   "source": [
    "win_check(test_board,'X')"
   ]
  },
  {
   "cell_type": "code",
   "execution_count": 9,
   "id": "7357a94a",
   "metadata": {},
   "outputs": [],
   "source": [
    "import random\n",
    "\n",
    "def choose_first():\n",
    "    \n",
    "    if random.randint(0, 1) == 0:\n",
    "        return 'Player 2'\n",
    "    else:\n",
    "        return 'Player 1'"
   ]
  },
  {
   "cell_type": "code",
   "execution_count": 10,
   "id": "8822140c",
   "metadata": {},
   "outputs": [
    {
     "data": {
      "text/plain": [
       "'Player 1'"
      ]
     },
     "execution_count": 10,
     "metadata": {},
     "output_type": "execute_result"
    }
   ],
   "source": [
    "choose_first()"
   ]
  },
  {
   "cell_type": "code",
   "execution_count": 11,
   "id": "378e69b7",
   "metadata": {},
   "outputs": [],
   "source": [
    "def space_check(board, position):\n",
    "     \n",
    "    return board[position] == ' '"
   ]
  },
  {
   "cell_type": "code",
   "execution_count": 12,
   "id": "91dc3b79",
   "metadata": {},
   "outputs": [],
   "source": [
    "def full_board_check(board):\n",
    "    \n",
    "    for i in range(1,10):\n",
    "        if space_check(board, i):\n",
    "            return False\n",
    "    return True"
   ]
  },
  {
   "cell_type": "code",
   "execution_count": 13,
   "id": "4918ee3e",
   "metadata": {},
   "outputs": [],
   "source": [
    "def player_choice(board):\n",
    "    \n",
    "    position = 0\n",
    "    \n",
    "    while position not in [1,2,3,4,5,6,7,8,9] or not space_check(board, position):\n",
    "        position = int(input('Choose your next position: (1-9) '))\n",
    "        \n",
    "    return position"
   ]
  },
  {
   "cell_type": "code",
   "execution_count": 14,
   "id": "634d49ee",
   "metadata": {},
   "outputs": [],
   "source": [
    "def replay():\n",
    "    \n",
    "    return input('Do you want to play again? Enter Yes or No: ').lower().startswith('y')"
   ]
  },
  {
   "cell_type": "code",
   "execution_count": null,
   "id": "d367fde2",
   "metadata": {},
   "outputs": [
    {
     "name": "stdout",
     "output_type": "stream",
     "text": [
      "O  |   | O\n",
      "-----------\n",
      "X | X | X\n",
      "-----------\n",
      "X |   | O\n",
      "Congratulations! You have won the game!\n"
     ]
    }
   ],
   "source": [
    "while True:\n",
    "    theBoard = [' '] * 10\n",
    "    player1_marker, player2_marker = player_input()\n",
    "    turn = choose_first()\n",
    "    print(turn + ' will go first.')\n",
    "    \n",
    "    play_game = input('Are you ready to play? Enter Yes or No.')\n",
    "    \n",
    "    if play_game.lower()[0] == 'y':\n",
    "        game_on = True\n",
    "    else:\n",
    "        game_on = False\n",
    "\n",
    "    while game_on:\n",
    "        if turn == 'Player 1':\n",
    "            \n",
    "            display_board(theBoard)\n",
    "            position = player_choice(theBoard)\n",
    "            place_marker(theBoard, player1_marker, position)\n",
    "\n",
    "            if win_check(theBoard, player1_marker):\n",
    "                display_board(theBoard)\n",
    "                print('Congratulations! You have won the game!')\n",
    "                game_on = False\n",
    "            else:\n",
    "                if full_board_check(theBoard):\n",
    "                    display_board(theBoard)\n",
    "                    print('The game is a draw!')\n",
    "                    break\n",
    "                else:\n",
    "                    turn = 'Player 2'\n",
    "\n",
    "        else:\n",
    "            \n",
    "            display_board(theBoard)\n",
    "            position = player_choice(theBoard)\n",
    "            place_marker(theBoard, player2_marker, position)\n",
    "\n",
    "            if win_check(theBoard, player2_marker):\n",
    "                display_board(theBoard)\n",
    "                print('Player 2 has won!')\n",
    "                game_on = False\n",
    "            else:\n",
    "                if full_board_check(theBoard):\n",
    "                    display_board(theBoard)\n",
    "                    print('The game is a draw!')\n",
    "                    break\n",
    "                else:\n",
    "                    turn = 'Player 1'\n",
    "\n",
    "    if not replay():\n",
    "        break"
   ]
  }
 ],
 "metadata": {
  "kernelspec": {
   "display_name": "Python 3 (ipykernel)",
   "language": "python",
   "name": "python3"
  },
  "language_info": {
   "codemirror_mode": {
    "name": "ipython",
    "version": 3
   },
   "file_extension": ".py",
   "mimetype": "text/x-python",
   "name": "python",
   "nbconvert_exporter": "python",
   "pygments_lexer": "ipython3",
   "version": "3.10.9"
  }
 },
 "nbformat": 4,
 "nbformat_minor": 5
}
